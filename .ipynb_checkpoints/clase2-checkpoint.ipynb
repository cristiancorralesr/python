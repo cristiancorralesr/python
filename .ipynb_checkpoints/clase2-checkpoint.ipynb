{
 "cells": [
  {
   "cell_type": "code",
   "execution_count": 2,
   "metadata": {},
   "outputs": [],
   "source": [
    "### Unidad 2\n",
    "\n",
    "\n"
   ]
  },
  {
   "cell_type": "code",
   "execution_count": 3,
   "metadata": {},
   "outputs": [
    {
     "name": "stdin",
     "output_type": "stream",
     "text": [
      "Ingrese el radio del círculo:  3\n"
     ]
    },
    {
     "name": "stdout",
     "output_type": "stream",
     "text": [
      "3.0 <class 'float'>\n",
      "El área del círculo es: 28.274333882308138\n",
      "<class 'list'>\n",
      "<class 'dict'>\n",
      "<class 'tuple'>\n"
     ]
    },
    {
     "ename": "NameError",
     "evalue": "name 'dato_a' is not defined",
     "output_type": "error",
     "traceback": [
      "\u001b[1;31m---------------------------------------------------------------------------\u001b[0m",
      "\u001b[1;31mNameError\u001b[0m                                 Traceback (most recent call last)",
      "Cell \u001b[1;32mIn[3], line 23\u001b[0m\n\u001b[0;32m     19\u001b[0m \u001b[38;5;28mprint\u001b[39m(\u001b[38;5;28mtype\u001b[39m({}))  \u001b[38;5;66;03m#diccionario\u001b[39;00m\n\u001b[0;32m     20\u001b[0m \u001b[38;5;28mprint\u001b[39m(\u001b[38;5;28mtype\u001b[39m(()))  \u001b[38;5;66;03m#tupla\u001b[39;00m\n\u001b[1;32m---> 23\u001b[0m \u001b[38;5;28mprint\u001b[39m(\u001b[38;5;124mf\u001b[39m\u001b[38;5;124m\"\u001b[39m\u001b[38;5;124mhola soy: \u001b[39m\u001b[38;5;132;01m{\u001b[39;00mdato_a\u001b[38;5;132;01m}\u001b[39;00m\u001b[38;5;124m\"\u001b[39m)\n\u001b[0;32m     25\u001b[0m \u001b[38;5;66;03m#las listas tienen funciones\u001b[39;00m\n\u001b[0;32m     26\u001b[0m lista\u001b[38;5;241m.\u001b[39mcount()    \u001b[38;5;66;03m#contar\u001b[39;00m\n",
      "\u001b[1;31mNameError\u001b[0m: name 'dato_a' is not defined"
     ]
    }
   ],
   "source": [
    "\n",
    "\n",
    "\n",
    "# libro de py: https://ellibrodepython.com/listas-en-python\n",
    "import math\n",
    "\n",
    "numero_texto = input(\"Ingrese el radio del círculo: \")\n",
    "\n",
    "radio = float(numero_texto)\n",
    "\n",
    "print(radio,type(radio))\n",
    "\n",
    "area = math.pi * (radio * radio)\n",
    "\n",
    "area = math.pi * (radio ** 2)\n",
    "\n",
    "print(\"El área del círculo es:\", area)\n",
    "\n",
    "#Tipos de datos\n",
    "\n",
    "print(type([]))  #Lista\n",
    "print(type({}))  #diccionario\n",
    "print(type(()))  #tupla\n",
    "\n",
    "\n",
    "print(f\"hola soy: {dato_a}\")\n",
    "\n",
    "#las listas tienen funciones\n",
    "lista.count()    #contar\n",
    "lista.append()   #agregar elementos\n",
    "lista.replace(cadena_a_reemplazar, cadena_nueva)\n",
    "\n",
    "lista.split(\" \",2)\n",
    "lista.extend()\n",
    "lista.sort()\n",
    "\n",
    "lista[2] #acceder a la psociion 2\n",
    "lista[2:10:2] #del 2 al 10, de 2 en 2. \n",
    "\n",
    "\n",
    "\n",
    "\n",
    "\n"
   ]
  },
  {
   "cell_type": "code",
   "execution_count": null,
   "metadata": {},
   "outputs": [],
   "source": []
  }
 ],
 "metadata": {
  "kernelspec": {
   "display_name": "Python 3 (ipykernel)",
   "language": "python",
   "name": "python3"
  },
  "language_info": {
   "codemirror_mode": {
    "name": "ipython",
    "version": 3
   },
   "file_extension": ".py",
   "mimetype": "text/x-python",
   "name": "python",
   "nbconvert_exporter": "python",
   "pygments_lexer": "ipython3",
   "version": "3.11.7"
  }
 },
 "nbformat": 4,
 "nbformat_minor": 4
}
