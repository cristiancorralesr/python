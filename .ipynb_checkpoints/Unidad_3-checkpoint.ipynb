{
 "cells": [
  {
   "cell_type": "markdown",
   "id": "141e9e88-aa9c-4b2e-80e5-5badc068815b",
   "metadata": {},
   "source": [
    "### Estructuras de control de flujo\n",
    "Flujo: se trata de dirigir y escribir tareas o instrucciones que tengan una secuencia a ejecurar. Es la forma en que el computador va a hacer lo que le pedimos. \n",
    "\n",
    "En las secuencias de pasos o instrucciones, se pueden tomar diferentes caminos. Por eso son necesarias las estructuras de control. \n",
    "1. Secuencias: línea tras línea.\n",
    "2. Selección o condicional.\n",
    "3. Repetición. \n",
    "4. saltos entre bloques de código.\n",
    "\n",
    "Control de flujo: le enseñamos al programa a escoger caminos. Permitiendo ejecutar tareas adecuadas de acuerdo con conjuntos de valores. \n",
    "\n",
    "## Condicionales (estructuras de decisión). \n",
    "\n",
    "# selección simple: if. \n",
    "\n",
    "selección opcional.\n",
    "\n",
    "if condicion:\n",
    "    Instrucción en caso de True. \n",
    "\n",
    "\n",
    "# selección doble: (if - else)\n",
    "\n",
    "Selección obligatoria o por defecto o doble\n",
    "\n",
    "if condicion:\n",
    "    Instrucción en caso de True.\n",
    "else:\n",
    "    Instrucción en caso de False\n",
    "\n",
    "\n",
    "# selección multiple o anidada (if - elif - else)\n",
    "\n",
    "if condicionA:\n",
    "    Instrucción en caso de condicionA sea True.\n",
    "elif condicionB:\n",
    "    Instrucción en caso de condicionB sea False\n",
    "else\n",
    "    Instrucción en cao de condicionA y condicionB sean False\n",
    "\n",
    "Con else es una selección obligatoria, sin else es una selección opcional. El else es opcional.\n",
    "\n",
    "\n"
   ]
  },
  {
   "cell_type": "code",
   "execution_count": 6,
   "id": "71a87833-c153-4823-9353-62db7706f6ff",
   "metadata": {},
   "outputs": [
    {
     "name": "stdout",
     "output_type": "stream",
     "text": [
      "ambas\n"
     ]
    }
   ],
   "source": [
    "var1 = True\n",
    "var2 = True\n",
    "\n",
    "if var1 and var2:\n",
    "    print(\"ambas\")\n",
    "else: \n",
    "    print(\"solo una\")"
   ]
  },
  {
   "cell_type": "code",
   "execution_count": 12,
   "id": "182a0d8f-22a5-4a4a-82d4-00f42939768d",
   "metadata": {},
   "outputs": [
    {
     "name": "stdout",
     "output_type": "stream",
     "text": [
      "funciona también\n"
     ]
    }
   ],
   "source": [
    "var1 = 6\n",
    "var2 = 12\n",
    "\n",
    "if var1 + var2 <10:\n",
    "    print(\"funciona\")\n",
    "else:\n",
    "    print(\"funciona también\")"
   ]
  },
  {
   "cell_type": "code",
   "execution_count": 18,
   "id": "a67489bf-94e2-4adb-9e90-3b1eef6a32f2",
   "metadata": {},
   "outputs": [
    {
     "name": "stdout",
     "output_type": "stream",
     "text": [
      "Mayor tercera\n"
     ]
    }
   ],
   "source": [
    "var1 = 3\n",
    "var2 = 5\n",
    "var3 = 7\n",
    "\n",
    "if var1 + var2 > 10:\n",
    "    print(\"Mayor primera\")\n",
    "elif var1 + var3 > 10:\n",
    "    print(\"mayor segunda\")\n",
    "elif var1 + var2 + var3 > 10:\n",
    "    print(\"Mayor tercera\")\n",
    "else:\n",
    "    print(\"Ninguna\")"
   ]
  },
  {
   "cell_type": "code",
   "execution_count": 21,
   "id": "d296ea10-24d4-46f1-b28e-f7dae907a2d8",
   "metadata": {},
   "outputs": [
    {
     "name": "stdin",
     "output_type": "stream",
     "text": [
      "Ingrese una contraseña:  AIOPETYUA\n"
     ]
    },
    {
     "name": "stdout",
     "output_type": "stream",
     "text": [
      "La contraseña no cumple los requisitos.\n"
     ]
    }
   ],
   "source": [
    "##Ejercicios \n",
    "contrasena = input(\"Ingrese una contraseña: \")\n",
    "\n",
    "es_valida = False\n",
    "if len(contrasena) >= 8 and any(caracter.isupper() for caracter in contrasena) and any(caracter.isdigit() for caracter in contrasena):\n",
    "    es_valida = True\n",
    "if es_valida:\n",
    "    print(\"La contraseña es válida.\")\n",
    "else:\n",
    "    print(\"La contraseña no cumple los requisitos.\")"
   ]
  },
  {
   "cell_type": "code",
   "execution_count": 23,
   "id": "bb5991fe-83d8-41cb-9f61-2000174351f3",
   "metadata": {},
   "outputs": [
    {
     "name": "stdin",
     "output_type": "stream",
     "text": [
      "Ingrese un número:  4\n"
     ]
    },
    {
     "name": "stdout",
     "output_type": "stream",
     "text": [
      "El número es par.\n"
     ]
    }
   ],
   "source": [
    "numero = int(input(\"Ingrese un número: \"))\n",
    "if numero % 2 == 0:\n",
    "    print(\"El número es par.\")\n",
    "else:\n",
    "    print(\"El número es impar.\")"
   ]
  },
  {
   "cell_type": "code",
   "execution_count": 33,
   "id": "bd37bbcf-b8ea-48fc-bb42-11ee36e4a18c",
   "metadata": {},
   "outputs": [
    {
     "name": "stdin",
     "output_type": "stream",
     "text": [
      "Ingrese la calificación del estudiante:  50\n"
     ]
    },
    {
     "name": "stdout",
     "output_type": "stream",
     "text": [
      "rta\n"
     ]
    }
   ],
   "source": [
    "calificacion = int(input(\"Ingrese la calificación del estudiante: \"))\n",
    "if calificacion >= 90:\n",
    "    print(\"Sobresaliente\")\n",
    "elif calificacion >= 70:\n",
    "    print(\"Aceptable\")\n",
    "elif calificacion >= 50:\n",
    "    print(\"rta\")\n",
    "else:\n",
    "    print(\"Reprueba\")"
   ]
  }
 ],
 "metadata": {
  "kernelspec": {
   "display_name": "Python 3 (ipykernel)",
   "language": "python",
   "name": "python3"
  },
  "language_info": {
   "codemirror_mode": {
    "name": "ipython",
    "version": 3
   },
   "file_extension": ".py",
   "mimetype": "text/x-python",
   "name": "python",
   "nbconvert_exporter": "python",
   "pygments_lexer": "ipython3",
   "version": "3.11.7"
  }
 },
 "nbformat": 4,
 "nbformat_minor": 5
}
