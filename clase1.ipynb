{
 "cells": [
  {
   "cell_type": "markdown",
   "metadata": {},
   "source": [
    "### introducción"
   ]
  },
  {
   "cell_type": "markdown",
   "metadata": {},
   "source": [
    "¿Por qué programar?\n",
    "Las herramientas y la tecnologia ya no está en manos de expertos. \n",
    "Democratización de la tecnológia.\n",
    "Usar estás herramientas y los computadores como esa herramienta que permite generar todo ese potencial. \n",
    "\n",
    "Pensamiento secuencia/algoritmico/lógico\n",
    "\n",
    "Se basa en la secuenciación de acciones o tareas. \n",
    "Existe correlación entre cada tarea. \n",
    "\n",
    "En cada paso se identifican tres componentes: \n",
    "1. Entrada\n",
    " 1.1. inputs para que la tarea pueda iniciarse. (bases de datos, sensores, API)\n",
    "2. Proceso\n",
    " 2.2. conjunto de acciones que permite transformar las entradas en salidas. (operaciones, verificaciones, transformaciones)\n",
    "3. Salida\n",
    " 3.3. refleja el objetivo de la tarea. (resultados, info procesada, mensajes, gráficos)\n",
    "\n",
    "¿qué es un algoritmo?\n",
    "    Esa secuencia ordena que nos permite trabajar. Conjunto de reglas definidas y no ambigüas ordenadas que permiten solucionar un problema. \n",
    "    Secuencia de pasos ordenados (proceso) que permite que, dado un conjunto de entradas, se obtenga una salida (solución)\n",
    "\n",
    " ¿Qué es programar?\n",
    "Analizar y convertir situaciones cotidianas en una seria de reglas (algoritmos), entendiendo los pasos y elementos que hacen falta para resolver el problema. \n",
    "\n"
   ]
  },
  {
   "cell_type": "markdown",
   "metadata": {},
   "source": [
    "### MEMORIA y PROCESAMIENTO\n",
    "\n",
    "memoria: bloques donde almacenamos información. Hay bloques muy rápidos, como la RAM (memoria de trabajo)\n",
    "o memoria de almacenamiento como los discos duros\n",
    "\n",
    "byte: medida de almacenamiento de los ordenadores. \n",
    "\n",
    "Procesamiento: capacidad de realizar operaciones. Trabaja en compañía de la memoria. Si no tenemos memoria (de trabajo) no vamos a poder ejecutar ninguna operación. "
   ]
  },
  {
   "cell_type": "markdown",
   "metadata": {},
   "source": [
    "### Diagramas de flujo\n",
    "\n",
    "Idelaes para la contrucción de algoritmos. \n",
    "Son una convención estándar. \n",
    "son esquemas que representan las secuencias. \n",
    "Ovalos: inicio y final\n",
    "cuadrados: Acciones\n",
    "rombos: Decisiones\n",
    "\n",
    "### Pseudo código\n",
    "\n",
    " = lenguaje de descripción algoritmico. \n",
    " Es una descripción de alto nivel, compacta e informal de un algoritmo. \n",
    " Está diseñado para la lectura humana en lugar de la lectura mediante una maquina. \n"
   ]
  },
  {
   "cell_type": "markdown",
   "metadata": {},
   "source": [
    " ### configuración del espacio de trabajo. \n",
    " Anaconda. Allí está Jupyter o VSC"
   ]
  },
  {
   "cell_type": "code",
   "execution_count": 4,
   "metadata": {},
   "outputs": [
    {
     "name": "stdout",
     "output_type": "stream",
     "text": [
      "hello Python world\n",
      "[1, 2, 3, 4]\n"
     ]
    }
   ],
   "source": [
    "print(\"hello Python world\")\n",
    "\n",
    "valor = 21\n",
    "\n",
    "valor\n",
    "\n",
    "lista = [1,2,3]\n",
    "\n",
    "conjunto = {1, 2,2,2,3} ## no repetidos\n",
    "\n",
    "lista.append(4)\n",
    "\n",
    "print(lista)"
   ]
  },
  {
   "cell_type": "code",
   "execution_count": null,
   "metadata": {},
   "outputs": [],
   "source": []
  }
 ],
 "metadata": {
  "kernelspec": {
   "display_name": "Python 3 (ipykernel)",
   "language": "python",
   "name": "python3"
  },
  "language_info": {
   "codemirror_mode": {
    "name": "ipython",
    "version": 3
   },
   "file_extension": ".py",
   "mimetype": "text/x-python",
   "name": "python",
   "nbconvert_exporter": "python",
   "pygments_lexer": "ipython3",
   "version": "3.12.1"
  }
 },
 "nbformat": 4,
 "nbformat_minor": 2
}
