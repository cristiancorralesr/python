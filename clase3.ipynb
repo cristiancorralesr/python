{
 "cells": [
  {
   "cell_type": "code",
   "execution_count": 4,
   "metadata": {},
   "outputs": [
    {
     "name": "stdout",
     "output_type": "stream",
     "text": [
      "El número es impar\n"
     ]
    }
   ],
   "source": [
    "parametro  = 15\n",
    "\n",
    "if  (parametro % 2 == 0):\n",
    "    print(\"El número es par\")\n",
    "else:\n",
    "    print(\"El número es impar\")"
   ]
  },
  {
   "cell_type": "code",
   "execution_count": null,
   "metadata": {},
   "outputs": [],
   "source": [
    "#elif Opera como un nuevo if. Para varias opciones\n",
    "\n",
    "if ():\n",
    "    print()\n",
    "elif():\n",
    "    print()\n",
    "elif():\n",
    "    print()\n",
    "else:\n",
    "    print()\n",
    "\n",
    "if(edad > edad_min and edad < edad_max):\n",
    "    if():\n",
    "        print()\n",
    "    elif():\n",
    "        print()\n",
    "    elif():\n",
    "        print()\n",
    "    else:\n",
    "        print()\n"
   ]
  },
  {
   "cell_type": "code",
   "execution_count": 8,
   "metadata": {},
   "outputs": [
    {
     "name": "stdout",
     "output_type": "stream",
     "text": [
      "la suma es: 10\n",
      "restar 10\n",
      "restar 9\n",
      "restar 8\n",
      "restar 7\n",
      "restar 6\n",
      "restar 5\n",
      "restar 4\n",
      "restar 3\n",
      "restar 2\n",
      "restar 1\n",
      "seguimos  🤞\n"
     ]
    }
   ],
   "source": [
    "#Loop\n",
    "suma = 0\n",
    "for i in range(1,11):\n",
    "    suma = i\n",
    "\n",
    "print(\"la suma es:\", suma)\n",
    "\n",
    "suma = sum(range(1,11))\n",
    "\n",
    "num = 10\n",
    "while (num > 0):\n",
    "    print(\"restar\",num)\n",
    "    num = num - 1 \n",
    "\n",
    "print(\"seguimos  🤞\")"
   ]
  },
  {
   "cell_type": "code",
   "execution_count": null,
   "metadata": {},
   "outputs": [],
   "source": []
  }
 ],
 "metadata": {
  "kernelspec": {
   "display_name": "Python 3",
   "language": "python",
   "name": "python3"
  },
  "language_info": {
   "codemirror_mode": {
    "name": "ipython",
    "version": 3
   },
   "file_extension": ".py",
   "mimetype": "text/x-python",
   "name": "python",
   "nbconvert_exporter": "python",
   "pygments_lexer": "ipython3",
   "version": "3.12.1"
  }
 },
 "nbformat": 4,
 "nbformat_minor": 2
}
