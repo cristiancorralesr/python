{
 "cells": [
  {
   "cell_type": "code",
   "execution_count": 6,
   "id": "86d77ded-65a1-46e4-9a73-7fbfb205ee45",
   "metadata": {},
   "outputs": [
    {
     "data": {
      "text/plain": [
       "str"
      ]
     },
     "execution_count": 6,
     "metadata": {},
     "output_type": "execute_result"
    }
   ],
   "source": [
    "### Práctica Unidad 2\n",
    "type(10)"
   ]
  },
  {
   "cell_type": "code",
   "execution_count": 7,
   "id": "39df2c38-722b-4980-96c0-ec99e85051ac",
   "metadata": {},
   "outputs": [
    {
     "data": {
      "text/plain": [
       "str"
      ]
     },
     "execution_count": 7,
     "metadata": {},
     "output_type": "execute_result"
    }
   ],
   "source": [
    "type(\"hola\")"
   ]
  },
  {
   "cell_type": "code",
   "execution_count": 9,
   "id": "e7d0baa7-09e5-4fc9-9605-42934e1620b4",
   "metadata": {},
   "outputs": [
    {
     "data": {
      "text/plain": [
       "bool"
      ]
     },
     "execution_count": 9,
     "metadata": {},
     "output_type": "execute_result"
    }
   ],
   "source": [
    "type(True)"
   ]
  },
  {
   "cell_type": "code",
   "execution_count": 10,
   "id": "2e6bf7ea-b93a-45fb-91f3-4858a2bd4c63",
   "metadata": {},
   "outputs": [
    {
     "data": {
      "text/plain": [
       "list"
      ]
     },
     "execution_count": 10,
     "metadata": {},
     "output_type": "execute_result"
    }
   ],
   "source": [
    "type([1,2,34])"
   ]
  },
  {
   "cell_type": "code",
   "execution_count": 11,
   "id": "0793b465-5515-4932-87a2-f64981eedce6",
   "metadata": {},
   "outputs": [
    {
     "data": {
      "text/plain": [
       "tuple"
      ]
     },
     "execution_count": 11,
     "metadata": {},
     "output_type": "execute_result"
    }
   ],
   "source": [
    "type((1,2))"
   ]
  },
  {
   "cell_type": "markdown",
   "id": "237ed6d5-f5d8-46cd-b705-e55abd404c88",
   "metadata": {},
   "source": [
    "### Declaración de vbles\n",
    "nombre = literal\n",
    "Cada celda es un espacio distinto. "
   ]
  },
  {
   "cell_type": "code",
   "execution_count": 13,
   "id": "3c0243cf-72f1-4764-b01f-e0b6a5cee514",
   "metadata": {},
   "outputs": [],
   "source": [
    "nombre = \"Cristian\""
   ]
  },
  {
   "cell_type": "code",
   "execution_count": 14,
   "id": "4843eff3-03c0-4cfe-9818-128e0df5b444",
   "metadata": {},
   "outputs": [
    {
     "name": "stdout",
     "output_type": "stream",
     "text": [
      "Cristian\n"
     ]
    }
   ],
   "source": [
    "print(nombre)"
   ]
  },
  {
   "cell_type": "code",
   "execution_count": 15,
   "id": "f302b451-0dea-4457-8f33-08068c9e3d6e",
   "metadata": {},
   "outputs": [
    {
     "data": {
      "text/plain": [
       "str"
      ]
     },
     "execution_count": 15,
     "metadata": {},
     "output_type": "execute_result"
    }
   ],
   "source": [
    "type(nombre)"
   ]
  },
  {
   "cell_type": "code",
   "execution_count": 16,
   "id": "5ccac81d-cc2a-4b63-aa6b-528ec782cb78",
   "metadata": {},
   "outputs": [],
   "source": [
    "edad = 30"
   ]
  },
  {
   "cell_type": "code",
   "execution_count": 18,
   "id": "ac554a5d-3baa-40b8-8e4b-cdad609beb8f",
   "metadata": {},
   "outputs": [
    {
     "name": "stdout",
     "output_type": "stream",
     "text": [
      "30\n"
     ]
    }
   ],
   "source": [
    "print(edad)"
   ]
  },
  {
   "cell_type": "code",
   "execution_count": 21,
   "id": "87952104-639f-4b28-bbab-d5754d230392",
   "metadata": {},
   "outputs": [],
   "source": [
    "isFestivo=True\n",
    "apellido = \"corrales\""
   ]
  },
  {
   "cell_type": "code",
   "execution_count": 25,
   "id": "ffd18bda-d3d1-403a-a4b5-7a8aa4375370",
   "metadata": {},
   "outputs": [
    {
     "name": "stdout",
     "output_type": "stream",
     "text": [
      "True\n"
     ]
    }
   ],
   "source": [
    "print(isFestivo)"
   ]
  },
  {
   "cell_type": "markdown",
   "id": "1065f8db-7921-4f41-897a-7dbd7b4eae70",
   "metadata": {},
   "source": [
    "## operaciones y expresiones\n",
    "Operadores: \n",
    "- Aritméticos\n",
    "  - Suma +\n",
    "  - Resta - \n",
    "  - Multiplicación *\n",
    "  - División /\n",
    "  - Reiduo %\n",
    "\n",
    "- Comparación  --- El resultado es un valor booleano. \n",
    "  - Mayor >\n",
    "  - <\n",
    "  - !=\n",
    "  - ==\n",
    "  - is  idéntico\n",
    "  - is not  no es idéntico\n",
    "\n",
    "- Booleanos\n",
    "  - O or\n",
    "  - Y and\n",
    "  - Negación (convertir un True en False o vice.\n",
    " \n",
    "- Operadores de secuencias:\n",
    "  - x in seq   existe x in seq\n",
    "  - x not in seq\n",
    "  - sa + sb concatenar seq a,b\n",
    "  - seq*veces\n",
    "  - seq[i]   obtener el i-esimo\n",
    "  - iseq[ini:fin]   obtener rango.\n",
    "  - seq[ini:fin:paso]  obtener rango paso\n",
    "  - len(seq)\n",
    "  - min(seq); max(seq)\n",
    "  - seq.count(item)\n",
    "  - seq.index(item[,i[,j]]])\n",
    "    "
   ]
  },
  {
   "cell_type": "code",
   "execution_count": 27,
   "id": "a3ec291c-1bc2-47cf-869c-8ba85c3e1203",
   "metadata": {},
   "outputs": [
    {
     "name": "stdout",
     "output_type": "stream",
     "text": [
      "1\n"
     ]
    }
   ],
   "source": [
    "#Incremento\n",
    "\n",
    "valor = 0\n",
    "valor = valor +1 \n",
    "print(valor)"
   ]
  },
  {
   "cell_type": "code",
   "execution_count": 29,
   "id": "442a907a-9718-4bab-ae8a-439afc464514",
   "metadata": {},
   "outputs": [
    {
     "name": "stdout",
     "output_type": "stream",
     "text": [
      "1\n"
     ]
    }
   ],
   "source": [
    "#incremento resumido\n",
    "valor = 0\n",
    "valor += 1 \n",
    "print(valor)"
   ]
  },
  {
   "cell_type": "code",
   "execution_count": 30,
   "id": "a57eedb5-2724-4761-8b99-ca3d53dfba7c",
   "metadata": {},
   "outputs": [
    {
     "name": "stdout",
     "output_type": "stream",
     "text": [
      "Hola Mundo\n"
     ]
    }
   ],
   "source": [
    "# concatenación (solo concatena str())\n",
    "cadenaA = \"Hola\"\n",
    "cadenaB = \"Mundo\"\n",
    "cadena_total = cadenaA + \" \" + cadenaB\n",
    "print(cadena_total)"
   ]
  },
  {
   "cell_type": "code",
   "execution_count": 36,
   "id": "62741e4e-bed7-4340-b1a9-8597cbe0bfb0",
   "metadata": {},
   "outputs": [
    {
     "name": "stdout",
     "output_type": "stream",
     "text": [
      "Hola Mundo\n"
     ]
    }
   ],
   "source": [
    "#Cadena f\n",
    "cadenaT = f'{cadenaA} {cadenaB}'\n",
    "print(cadenaT)"
   ]
  },
  {
   "cell_type": "markdown",
   "id": "c001414c-af0f-48c9-b06b-849d84ce3233",
   "metadata": {},
   "source": [
    "# ejemplos de operadores. \n"
   ]
  },
  {
   "cell_type": "code",
   "execution_count": 37,
   "id": "468756a2-e78a-4166-a998-d06303bc5ec2",
   "metadata": {},
   "outputs": [
    {
     "name": "stdout",
     "output_type": "stream",
     "text": [
      "el resultado de la suma es: 8\n"
     ]
    }
   ],
   "source": [
    "print(\"el resultado de la suma es: \" + str(8))"
   ]
  },
  {
   "cell_type": "code",
   "execution_count": 41,
   "id": "def749dd-7b0c-450f-85e5-69f0ab0a2d83",
   "metadata": {},
   "outputs": [
    {
     "name": "stdout",
     "output_type": "stream",
     "text": [
      "False\n"
     ]
    }
   ],
   "source": [
    "#las operaciones booleandas solamente entre boolenaos. \n",
    "b1 = True\n",
    "b2 = False\n",
    "resu = b1 and b2\n",
    "print(resu)"
   ]
  },
  {
   "cell_type": "code",
   "execution_count": 42,
   "id": "45195caa-ce4d-4616-b60b-5dfa2379b61a",
   "metadata": {},
   "outputs": [
    {
     "name": "stdout",
     "output_type": "stream",
     "text": [
      "True\n"
     ]
    }
   ],
   "source": [
    "resu = b1 or b2\n",
    "print(resu)"
   ]
  },
  {
   "cell_type": "code",
   "execution_count": null,
   "id": "cb63a0c3-8536-4859-819e-2cb2b2225bb6",
   "metadata": {},
   "outputs": [],
   "source": [
    "and solo es True si todo True \n",
    "or solo es False si too es False"
   ]
  },
  {
   "cell_type": "markdown",
   "id": "9e1ef811-e2a2-4f28-8a57-08494fa326eb",
   "metadata": {},
   "source": [
    "### Operaciones de secuencias\n"
   ]
  },
  {
   "cell_type": "code",
   "execution_count": 4,
   "id": "bc68bc0a-b7e5-4867-aa4d-a4929bc8206d",
   "metadata": {},
   "outputs": [
    {
     "name": "stdout",
     "output_type": "stream",
     "text": [
      "['Tornillos', 'Tuercas', 'Arandelas', 'Martillos', 'Destornilladores']\n",
      "21\n",
      "[5, 21]\n",
      "[1, 5, 7]\n",
      "5\n",
      "1 21\n"
     ]
    }
   ],
   "source": [
    "#x in seq  resultado True o False\n",
    "#x not in seq \n",
    "\n",
    "## sumar o concatenar / multiplicar \n",
    "seq1 = [\"Tornillos\", \"Tuercas\", \"Arandelas\"]\n",
    "seq2 = [\"Martillos\", \"Destornilladores\"]\n",
    "\n",
    "seq12 = seq1 + seq2\n",
    "print(seq12)\n",
    "\n",
    "#Obtener una posición\n",
    "s = [1,3,5,21,7]\n",
    "seq3 = s[3]\n",
    "print(seq3)\n",
    "\n",
    "#obtener un rango\n",
    "seq23 = s[2:4]\n",
    "print(seq23)\n",
    "\n",
    "#rango con paso a paso\n",
    "seqpap = s[0:6:2]\n",
    "print(seqpap)\n",
    "\n",
    "cantidad =len(s)\n",
    "print(cantidad)\n",
    "minimo = min(s)\n",
    "maximo = max(s)\n",
    "print(minimo, maximo)"
   ]
  },
  {
   "cell_type": "code",
   "execution_count": 7,
   "id": "cf18d4a3-9039-40a5-8272-342a0a01a107",
   "metadata": {},
   "outputs": [
    {
     "name": "stdout",
     "output_type": "stream",
     "text": [
      "3\n",
      "1\n"
     ]
    }
   ],
   "source": [
    "#Conteo de un ítem en una seq\n",
    "seq21 = [1,2,1,3,4,5,6,4,23,4,1,21,2,3,4,5,5]\n",
    "n_1 = seq21.count(1)\n",
    "print(n_1)\n",
    "n_21 = seq21.count(21)\n",
    "print(n_21)"
   ]
  },
  {
   "cell_type": "code",
   "execution_count": 8,
   "id": "1ca25b57-9ee5-4e05-b80d-7b28e0db1b83",
   "metadata": {},
   "outputs": [
    {
     "data": {
      "text/plain": [
       "11"
      ]
     },
     "execution_count": 8,
     "metadata": {},
     "output_type": "execute_result"
    }
   ],
   "source": [
    "## Palabras reservadas\n",
    "5+3*2"
   ]
  },
  {
   "cell_type": "markdown",
   "id": "7995c1b3-ae2b-4fe3-846c-074509a1ab18",
   "metadata": {},
   "source": [
    "### Ejercicios U2\n",
    "\n",
    "Escribe un programa que solicite al usuario ingresar el radio de un círculo y calcule el área. Luego, muestra el resultado en pantalla.\n",
    "Para responder la pregunta asume que el círculo es de radio uno (1):"
   ]
  },
  {
   "cell_type": "code",
   "execution_count": 13,
   "id": "da49591b-3563-49bb-a127-21d57487b643",
   "metadata": {},
   "outputs": [
    {
     "name": "stdin",
     "output_type": "stream",
     "text": [
      "radio:  1\n"
     ]
    },
    {
     "name": "stdout",
     "output_type": "stream",
     "text": [
      "El área del círculo es: 3.141592653589793\n"
     ]
    }
   ],
   "source": [
    "import math\n",
    "\n",
    "radio = float(input(\"radio: \"))\n",
    "area = math.pi * (radio ** 2)\n",
    "print(\"El área del círculo es:\", area)"
   ]
  },
  {
   "cell_type": "markdown",
   "id": "2463ebe8-cf62-4019-85c5-6b3e9a59df87",
   "metadata": {},
   "source": [
    "Escribe un programa que solicite al usuario ingresar una cantidad de minutos y convierta ese valor a horas y minutos. Luego, muestra el resultado en pantalla."
   ]
  },
  {
   "cell_type": "code",
   "execution_count": 33,
   "id": "b86f1bfd-ee21-4b61-8dc9-2b207efa9b44",
   "metadata": {},
   "outputs": [
    {
     "name": "stdin",
     "output_type": "stream",
     "text": [
      "minutos:  2344\n"
     ]
    },
    {
     "name": "stdout",
     "output_type": "stream",
     "text": [
      "horas  39\n",
      "min_rest  4\n",
      "2344  minutos, equivalen a  39 hora y  4  minutos\n"
     ]
    }
   ],
   "source": [
    "minutos = int(input(\"minutos: \"))\n",
    "horas = minutos//60\n",
    "minutos_restantes = minutos %60\n",
    "\n",
    "\n",
    "\n",
    "\n",
    "print(\"horas \", horas)\n",
    "print(\"min_rest \", minutos_restantes)\n",
    "print(minutos, \" minutos, equivalen a \",horas, \"hora y \", minutos_restantes, \" minutos\")"
   ]
  },
  {
   "cell_type": "markdown",
   "id": "8c13b2d0-febb-4078-8a30-f2633c9ab502",
   "metadata": {},
   "source": [
    "Escribe un programa que solicite al usuario ingresar su peso en kilogramos y su altura en metros (en ese orden), y calcule el índice de masa corporal (IMC). Luego, muestra el resultado en pantalla. Para esto debes ordenar en un orden correcto las opciones:"
   ]
  },
  {
   "cell_type": "markdown",
   "id": "df02a8cc-6894-481b-a158-abe761757f4b",
   "metadata": {},
   "source": [
    "Escribe un programa que solicite al usuario ingresar el precio original de un producto y un porcentaje de descuento. Luego, calcula el precio con el descuento aplicado y muestra el resultado en pantalla. En este caso, vas a seleccionar las palabras faltantes del código"
   ]
  },
  {
   "cell_type": "code",
   "execution_count": 34,
   "id": "febde514-4b9a-470b-a822-21b19e90efac",
   "metadata": {},
   "outputs": [
    {
     "name": "stdin",
     "output_type": "stream",
     "text": [
      "Ingrese el precio original del producto:  10\n",
      "Ingrese el porcentaje de descuento:  10\n"
     ]
    }
   ],
   "source": [
    "precio_original = float(input(\"Ingrese el precio original del producto: \"))\n",
    "descuento = float(input(\"Ingrese el porcentaje de descuento: \"))"
   ]
  },
  {
   "cell_type": "code",
   "execution_count": null,
   "id": "97cdca17-6e84-4989-9b82-29806694e782",
   "metadata": {},
   "outputs": [],
   "source": []
  }
 ],
 "metadata": {
  "kernelspec": {
   "display_name": "Python 3 (ipykernel)",
   "language": "python",
   "name": "python3"
  },
  "language_info": {
   "codemirror_mode": {
    "name": "ipython",
    "version": 3
   },
   "file_extension": ".py",
   "mimetype": "text/x-python",
   "name": "python",
   "nbconvert_exporter": "python",
   "pygments_lexer": "ipython3",
   "version": "3.11.7"
  }
 },
 "nbformat": 4,
 "nbformat_minor": 5
}
