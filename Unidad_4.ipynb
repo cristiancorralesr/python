{
 "cells": [
  {
   "cell_type": "markdown",
   "id": "546cfa83-73af-45f7-ba30-2bb7f89b3a84",
   "metadata": {},
   "source": [
    "### Estructuras de control - Ciclos\n",
    "\n",
    "¿Por qué?\n",
    "Automatizar. Relacionado con volúmenes de información. \n",
    "\n",
    "Formas de repetición en Py. \n",
    "\n",
    "Componentes:\n",
    "    - Inicialización: parámetros de entrada\n",
    "    - Condición: determina si hacer una repetición más. \n",
    "    - Cambio: Evita que sea infinito\n",
    "\n",
    "Pueden ser de: \n",
    "    - cantidad\n",
    "    - rango\n",
    "    - boolean\n",
    "\n",
    "while (es condicional y debería tener un cambio)\n",
    "Genera un ciclo dependiente de una condición en el flujo. \n",
    "\n",
    "while condicion:\n",
    "    insrucción a repetir\n",
    "    cambio en la condición\n",
    "\n",
    "for\n",
    "\n",
    "for valor in rango:\n",
    "    instrucción a repetir por n veces\n",
    "\n",
    "solo se ejecuta si le quedan veces por recorrer. Genera un ciclo dependiente de un conjunto/rango en el flujo.\n",
    "    "
   ]
  },
  {
   "cell_type": "code",
   "execution_count": 1,
   "id": "ec63471f-f47d-42fb-b845-58acc476e34f",
   "metadata": {},
   "outputs": [
    {
     "name": "stdout",
     "output_type": "stream",
     "text": [
      "ejecución\n"
     ]
    }
   ],
   "source": [
    "while True:\n",
    "    print(\"ejecución\")\n",
    "    break  #detener la ejecución del ciclo. "
   ]
  },
  {
   "cell_type": "code",
   "execution_count": 3,
   "id": "d08214e5-fb1d-4305-a6f2-f32303be9a10",
   "metadata": {},
   "outputs": [
    {
     "name": "stdout",
     "output_type": "stream",
     "text": [
      "7\n",
      "14\n",
      "21\n",
      "28\n",
      "35\n",
      "42\n",
      "49\n",
      "56\n",
      "63\n",
      "70\n"
     ]
    }
   ],
   "source": [
    "contador = 1\n",
    "while contador <= 10:\n",
    "    print(contador*7)\n",
    "    contador+=1"
   ]
  },
  {
   "cell_type": "code",
   "execution_count": 13,
   "id": "136c5e61-7d4d-4942-a917-88c3e6038a69",
   "metadata": {},
   "outputs": [
    {
     "name": "stdout",
     "output_type": "stream",
     "text": [
      "0 |A1 |A2 |A3 |A4 |A5 |A6 |A7 |A8 |A9 |A"
     ]
    }
   ],
   "source": [
    "rango = range(10)\n",
    "\n",
    "for x in rango:\n",
    "    print(x, end =\" |A\")\n",
    "\n"
   ]
  },
  {
   "cell_type": "code",
   "execution_count": 15,
   "id": "7e10034a-d16d-4439-805d-1f3743d0bc29",
   "metadata": {},
   "outputs": [
    {
     "name": "stdout",
     "output_type": "stream",
     "text": [
      "0T1T2T3T4T5T6T7T8T9Tciclo completado\n"
     ]
    }
   ],
   "source": [
    "for x in rango:\n",
    "    print(x, end = \"T\")\n",
    "else: \n",
    "    print(\"ciclo completado\")"
   ]
  },
  {
   "cell_type": "code",
   "execution_count": 19,
   "id": "51df5823-76ac-43c8-a679-5e4539eae449",
   "metadata": {},
   "outputs": [
    {
     "name": "stdout",
     "output_type": "stream",
     "text": [
      "0 1 2 3 4 "
     ]
    }
   ],
   "source": [
    "for x in rango:\n",
    "    if x == 5: break\n",
    "    print(x, end = \" \")\n",
    "else: \n",
    "    print(\"ciclo completado\")"
   ]
  },
  {
   "cell_type": "code",
   "execution_count": 28,
   "id": "5eef8cb0-4d2b-4c4c-8360-d679b893ffdc",
   "metadata": {},
   "outputs": [
    {
     "name": "stdout",
     "output_type": "stream",
     "text": [
      "['A', 'B', 'C'] [21, 34, 45]\n",
      "['A', 'B', 'C'] [21, 34, 45]\n",
      "['A', 'B', 'C'] [21, 34, 45]\n",
      "['A', 'B', 'C'] [21, 34, 45]\n",
      "['A', 'B', 'C'] [21, 34, 45]\n",
      "['A', 'B', 'C'] [21, 34, 45]\n",
      "['A', 'B', 'C'] [21, 34, 45]\n",
      "['A', 'B', 'C'] [21, 34, 45]\n",
      "['A', 'B', 'C'] [21, 34, 45]\n"
     ]
    }
   ],
   "source": [
    "nombre = [\"A\",\"B\",\"C\"]\n",
    "edad = [21,34,45]\n",
    "for x in nombre:\n",
    "    for y in edad:\n",
    "        print(nombre, edad)"
   ]
  },
  {
   "cell_type": "code",
   "execution_count": null,
   "id": "db580607-f011-44ba-9aab-89e6ebc85edf",
   "metadata": {},
   "outputs": [],
   "source": []
  }
 ],
 "metadata": {
  "kernelspec": {
   "display_name": "Python 3 (ipykernel)",
   "language": "python",
   "name": "python3"
  },
  "language_info": {
   "codemirror_mode": {
    "name": "ipython",
    "version": 3
   },
   "file_extension": ".py",
   "mimetype": "text/x-python",
   "name": "python",
   "nbconvert_exporter": "python",
   "pygments_lexer": "ipython3",
   "version": "3.11.7"
  }
 },
 "nbformat": 4,
 "nbformat_minor": 5
}
