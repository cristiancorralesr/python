{
 "cells": [
  {
   "cell_type": "markdown",
   "id": "546cfa83-73af-45f7-ba30-2bb7f89b3a84",
   "metadata": {},
   "source": [
    "### Estructuras de control - Ciclos\n",
    "\n",
    "¿Por qué?\n",
    "Automatizar. Relacionado con volúmenes de información. \n",
    "\n",
    "Formas de repetición en Py. \n",
    "\n",
    "Componentes:\n",
    "    - Inicialización: parámetros de entrada\n",
    "    - Condición: determina si hacer una repetición más. \n",
    "    - Cambio: Evita que sea infinito\n",
    "\n",
    "Pueden ser de: \n",
    "    - cantidad\n",
    "    - rango\n",
    "    - boolean\n",
    "\n",
    "while (es condicional y debería tener un cambio)\n",
    "Genera un ciclo dependiente de una condición en el flujo. \n",
    "\n",
    "while condicion:\n",
    "    insrucción a repetir\n",
    "    cambio en la condición\n",
    "\n",
    "for\n",
    "\n",
    "for valor in rango:\n",
    "    instrucción a repetir por n veces\n",
    "\n",
    "solo se ejecuta si le quedan veces por recorrer. Genera un ciclo dependiente de un conjunto/rango en el flujo.\n",
    "    "
   ]
  },
  {
   "cell_type": "code",
   "execution_count": 1,
   "id": "ec63471f-f47d-42fb-b845-58acc476e34f",
   "metadata": {},
   "outputs": [
    {
     "name": "stdout",
     "output_type": "stream",
     "text": [
      "ejecución\n"
     ]
    }
   ],
   "source": [
    "while True:\n",
    "    print(\"ejecución\")\n",
    "    break  #detener la ejecución del ciclo. "
   ]
  },
  {
   "cell_type": "code",
   "execution_count": 1,
   "id": "d08214e5-fb1d-4305-a6f2-f32303be9a10",
   "metadata": {},
   "outputs": [
    {
     "name": "stdout",
     "output_type": "stream",
     "text": [
      "7\n",
      "14\n",
      "21\n",
      "28\n",
      "35\n",
      "42\n",
      "49\n",
      "56\n",
      "63\n",
      "70\n"
     ]
    }
   ],
   "source": [
    "contador = 1\n",
    "while contador <= 10:\n",
    "    print(contador*7)\n",
    "    contador+=1"
   ]
  },
  {
   "cell_type": "code",
   "execution_count": 13,
   "id": "136c5e61-7d4d-4942-a917-88c3e6038a69",
   "metadata": {},
   "outputs": [
    {
     "name": "stdout",
     "output_type": "stream",
     "text": [
      "0 |A1 |A2 |A3 |A4 |A5 |A6 |A7 |A8 |A9 |A"
     ]
    }
   ],
   "source": [
    "rango = range(10)\n",
    "\n",
    "for x in rango:\n",
    "    print(x, end =\" |A\")\n",
    "\n"
   ]
  },
  {
   "cell_type": "code",
   "execution_count": 15,
   "id": "7e10034a-d16d-4439-805d-1f3743d0bc29",
   "metadata": {},
   "outputs": [
    {
     "name": "stdout",
     "output_type": "stream",
     "text": [
      "0T1T2T3T4T5T6T7T8T9Tciclo completado\n"
     ]
    }
   ],
   "source": [
    "for x in rango:\n",
    "    print(x, end = \"T\")\n",
    "else: \n",
    "    print(\"ciclo completado\")"
   ]
  },
  {
   "cell_type": "code",
   "execution_count": 19,
   "id": "51df5823-76ac-43c8-a679-5e4539eae449",
   "metadata": {},
   "outputs": [
    {
     "name": "stdout",
     "output_type": "stream",
     "text": [
      "0 1 2 3 4 "
     ]
    }
   ],
   "source": [
    "for x in rango:\n",
    "    if x == 5: break\n",
    "    print(x, end = \" \")\n",
    "else: \n",
    "    print(\"ciclo completado\")"
   ]
  },
  {
   "cell_type": "code",
   "execution_count": 28,
   "id": "5eef8cb0-4d2b-4c4c-8360-d679b893ffdc",
   "metadata": {},
   "outputs": [
    {
     "name": "stdout",
     "output_type": "stream",
     "text": [
      "['A', 'B', 'C'] [21, 34, 45]\n",
      "['A', 'B', 'C'] [21, 34, 45]\n",
      "['A', 'B', 'C'] [21, 34, 45]\n",
      "['A', 'B', 'C'] [21, 34, 45]\n",
      "['A', 'B', 'C'] [21, 34, 45]\n",
      "['A', 'B', 'C'] [21, 34, 45]\n",
      "['A', 'B', 'C'] [21, 34, 45]\n",
      "['A', 'B', 'C'] [21, 34, 45]\n",
      "['A', 'B', 'C'] [21, 34, 45]\n"
     ]
    }
   ],
   "source": [
    "nombre = [\"A\",\"B\",\"C\"]\n",
    "edad = [21,34,45]\n",
    "for x in nombre:\n",
    "    for y in edad:\n",
    "        print(nombre, edad)"
   ]
  },
  {
   "cell_type": "code",
   "execution_count": 1,
   "id": "db580607-f011-44ba-9aab-89e6ebc85edf",
   "metadata": {},
   "outputs": [
    {
     "name": "stdout",
     "output_type": "stream",
     "text": [
      "1\n",
      "2\n",
      "3\n",
      "4\n",
      "5\n",
      "6\n",
      "7\n",
      "8\n",
      "9\n",
      "10\n"
     ]
    }
   ],
   "source": [
    "numero = 1\n",
    "\n",
    "while numero <= 10:\n",
    "    print(numero)\n",
    "    numero += 1"
   ]
  },
  {
   "cell_type": "code",
   "execution_count": 3,
   "id": "21bd283e-249f-4e22-a155-c09e336626cd",
   "metadata": {},
   "outputs": [
    {
     "name": "stdout",
     "output_type": "stream",
     "text": [
      "La suma es: 1\n",
      "La suma es: 3\n",
      "La suma es: 6\n",
      "La suma es: 10\n",
      "La suma es: 15\n",
      "La suma es: 21\n",
      "La suma es: 28\n",
      "La suma es: 36\n",
      "La suma es: 45\n",
      "La suma es: 55\n",
      "La suma es: 66\n",
      "La suma es: 78\n",
      "La suma es: 91\n",
      "La suma es: 105\n",
      "La suma es: 120\n",
      "La suma es: 136\n",
      "La suma es: 153\n",
      "La suma es: 171\n",
      "La suma es: 190\n",
      "La suma es: 210\n",
      "La suma es: 231\n",
      "La suma es: 253\n",
      "La suma es: 276\n",
      "La suma es: 300\n",
      "La suma es: 325\n",
      "La suma es: 351\n",
      "La suma es: 378\n",
      "La suma es: 406\n",
      "La suma es: 435\n",
      "La suma es: 465\n",
      "La suma es: 496\n",
      "La suma es: 528\n",
      "La suma es: 561\n",
      "La suma es: 595\n",
      "La suma es: 630\n",
      "La suma es: 666\n",
      "La suma es: 703\n",
      "La suma es: 741\n",
      "La suma es: 780\n",
      "La suma es: 820\n",
      "La suma es: 861\n",
      "La suma es: 903\n",
      "La suma es: 946\n",
      "La suma es: 990\n",
      "La suma es: 1035\n",
      "La suma es: 1081\n",
      "La suma es: 1128\n",
      "La suma es: 1176\n",
      "La suma es: 1225\n",
      "La suma es: 1275\n",
      "La suma es: 1326\n",
      "La suma es: 1378\n",
      "La suma es: 1431\n",
      "La suma es: 1485\n",
      "La suma es: 1540\n",
      "La suma es: 1596\n",
      "La suma es: 1653\n",
      "La suma es: 1711\n",
      "La suma es: 1770\n",
      "La suma es: 1830\n",
      "La suma es: 1891\n",
      "La suma es: 1953\n",
      "La suma es: 2016\n",
      "La suma es: 2080\n",
      "La suma es: 2145\n",
      "La suma es: 2211\n",
      "La suma es: 2278\n",
      "La suma es: 2346\n",
      "La suma es: 2415\n",
      "La suma es: 2485\n",
      "La suma es: 2556\n",
      "La suma es: 2628\n",
      "La suma es: 2701\n",
      "La suma es: 2775\n",
      "La suma es: 2850\n",
      "La suma es: 2926\n",
      "La suma es: 3003\n",
      "La suma es: 3081\n",
      "La suma es: 3160\n",
      "La suma es: 3240\n",
      "La suma es: 3321\n",
      "La suma es: 3403\n",
      "La suma es: 3486\n",
      "La suma es: 3570\n",
      "La suma es: 3655\n",
      "La suma es: 3741\n",
      "La suma es: 3828\n",
      "La suma es: 3916\n",
      "La suma es: 4005\n",
      "La suma es: 4095\n",
      "La suma es: 4186\n",
      "La suma es: 4278\n",
      "La suma es: 4371\n",
      "La suma es: 4465\n",
      "La suma es: 4560\n",
      "La suma es: 4656\n",
      "La suma es: 4753\n",
      "La suma es: 4851\n",
      "La suma es: 4950\n",
      "La suma es: 5050\n"
     ]
    }
   ],
   "source": [
    "suma = 0\n",
    "for numero in range(1, 101):\n",
    "    suma += numero\n",
    "    print(\"La suma es:\", suma)"
   ]
  },
  {
   "cell_type": "code",
   "execution_count": 4,
   "id": "92bd9a3f-a06f-4cba-bb57-dc99e3d67063",
   "metadata": {},
   "outputs": [
    {
     "name": "stdout",
     "output_type": "stream",
     "text": [
      "Hola\n",
      "3.14\n",
      "True\n",
      "Python\n",
      "10\n"
     ]
    }
   ],
   "source": [
    "lista = [\"Hola\", 3.14, True, \"Python\", 10]\n",
    "for elemento in lista:\n",
    "    print(elemento)"
   ]
  },
  {
   "cell_type": "code",
   "execution_count": 9,
   "id": "21a99d36-0f7c-45a9-ae0b-2dfb426ad580",
   "metadata": {},
   "outputs": [
    {
     "name": "stdin",
     "output_type": "stream",
     "text": [
      "Ingrese un número:  2\n"
     ]
    },
    {
     "name": "stdout",
     "output_type": "stream",
     "text": [
      "El factorial es: 2\n"
     ]
    }
   ],
   "source": [
    "numero = int(input(\"Ingrese un número: \"))\n",
    "factorial = 1\n",
    "while numero > 0:\n",
    "    factorial *= numero\n",
    "    numero -= 1\n",
    "print(\"El factorial es:\", factorial)"
   ]
  },
  {
   "cell_type": "code",
   "execution_count": 15,
   "id": "0e49cccb-a171-48c1-a63c-ae29ce4f43ef",
   "metadata": {},
   "outputs": [
    {
     "name": "stdout",
     "output_type": "stream",
     "text": [
      "1\n",
      "3\n",
      "5\n",
      "7\n",
      "9\n",
      "11\n",
      "13\n",
      "15\n",
      "17\n",
      "19\n"
     ]
    }
   ],
   "source": [
    "for numero in range (1, 21):\n",
    "    if numero %2 != 0:\n",
    "        print(numero)"
   ]
  }
 ],
 "metadata": {
  "kernelspec": {
   "display_name": "Python 3 (ipykernel)",
   "language": "python",
   "name": "python3"
  },
  "language_info": {
   "codemirror_mode": {
    "name": "ipython",
    "version": 3
   },
   "file_extension": ".py",
   "mimetype": "text/x-python",
   "name": "python",
   "nbconvert_exporter": "python",
   "pygments_lexer": "ipython3",
   "version": "3.11.7"
  }
 },
 "nbformat": 4,
 "nbformat_minor": 5
}
