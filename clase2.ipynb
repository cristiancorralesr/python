{
 "cells": [
  {
   "cell_type": "code",
   "execution_count": 6,
   "metadata": {},
   "outputs": [],
   "source": [
    "# libro de py: https://ellibrodepython.com/listas-en-python\n",
    "import math\n",
    "\n",
    "numero_texto = input(\"Ingrese el radio del círculo: \")\n",
    "\n",
    "radio = float(numero_texto)\n",
    "\n",
    "print(radio,type(radio))\n",
    "\n",
    "area = math.pi * (radio * radio)\n",
    "\n",
    "area = math.pi * (radio ** 2)\n",
    "\n",
    "print(\"El área del círculo es:\", area)\n",
    "\n",
    "#Tipos de datos\n",
    "\n",
    "print(type([]))  #Lista\n",
    "print(type({}))  #diccionario\n",
    "print(type(()))  #tupla\n",
    "\n",
    "\n",
    "print(f\"hola soy: {dato_a}\")\n",
    "\n",
    "#las listas tienen funciones\n",
    "lista.count()    #contar\n",
    "lista.append()   #agregar elementos\n",
    "lista.replace(cadena_a_reemplazar, cadena_nueva)\n",
    "\n",
    "lista.split(\" \",2)\n",
    "lista.extend()\n",
    "lista.sort()\n",
    "\n",
    "lista[2] #acceder a la psociion 2\n",
    "lista[2:10:2] #del 2 al 10, de 2 en 2. \n",
    "\n",
    "\n",
    "\n",
    "\n",
    "\n"
   ]
  }
 ],
 "metadata": {
  "kernelspec": {
   "display_name": "Python 3",
   "language": "python",
   "name": "python3"
  },
  "language_info": {
   "codemirror_mode": {
    "name": "ipython",
    "version": 3
   },
   "file_extension": ".py",
   "mimetype": "text/x-python",
   "name": "python",
   "nbconvert_exporter": "python",
   "pygments_lexer": "ipython3",
   "version": "3.12.1"
  }
 },
 "nbformat": 4,
 "nbformat_minor": 2
}
