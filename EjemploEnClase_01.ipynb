{
 "cells": [
  {
   "cell_type": "markdown",
   "id": "e98b4edc",
   "metadata": {},
   "source": [
    "# Titulo grande\n",
    "\n",
    "Descripción del proceso que vamos a ejecutar"
   ]
  },
  {
   "cell_type": "code",
   "execution_count": 1,
   "id": "d9f32053",
   "metadata": {},
   "outputs": [
    {
     "name": "stdout",
     "output_type": "stream",
     "text": [
      "hola\n",
      "hola\n"
     ]
    }
   ],
   "source": [
    "# un comentario de una sola línea\n",
    "'''\n",
    "esto es un comentario de múltiples líneas\n",
    "por ejemplo esta otra línea\n",
    "'''\n",
    "print(\"hola\") # esto es una cadena de texto\n",
    "print('hola') # esto tambien es una cadena de texto"
   ]
  },
  {
   "cell_type": "code",
   "execution_count": 2,
   "id": "ff591a20",
   "metadata": {},
   "outputs": [
    {
     "name": "stdout",
     "output_type": "stream",
     "text": [
      "<class 'list'> <class 'set'>\n",
      "[1, 2, 3]\n",
      "{1, 2, 3}\n"
     ]
    }
   ],
   "source": [
    "lista = [1,2,3]\n",
    "conjunto = {1,2,2,2,2,2,2,2,3,3}\n",
    "print(type(lista), type(conjunto))\n",
    "print(lista)\n",
    "print(conjunto)"
   ]
  },
  {
   "cell_type": "code",
   "execution_count": 3,
   "id": "695b19cb",
   "metadata": {},
   "outputs": [
    {
     "name": "stdout",
     "output_type": "stream",
     "text": [
      "[[1, 2, 3], [4, 5, 6], [7, 8, 9]]\n"
     ]
    }
   ],
   "source": [
    "matriz = [[1,2,3],[4,5,6],[7,8,9]]\n",
    "print(matriz)"
   ]
  },
  {
   "cell_type": "code",
   "execution_count": 4,
   "id": "a1670496",
   "metadata": {},
   "outputs": [
    {
     "ename": "NameError",
     "evalue": "name 'valor' is not defined",
     "output_type": "error",
     "traceback": [
      "\u001b[1;31m---------------------------------------------------------------------------\u001b[0m",
      "\u001b[1;31mNameError\u001b[0m                                 Traceback (most recent call last)",
      "Cell \u001b[1;32mIn[4], line 1\u001b[0m\n\u001b[1;32m----> 1\u001b[0m \u001b[38;5;28mtype\u001b[39m(valor)\n",
      "\u001b[1;31mNameError\u001b[0m: name 'valor' is not defined"
     ]
    }
   ],
   "source": [
    "#type(valor)"
   ]
  },
  {
   "cell_type": "code",
   "execution_count": 10,
   "id": "716b47a0",
   "metadata": {},
   "outputs": [],
   "source": [
    "valor = 12\n",
    "valor_b = 12"
   ]
  },
  {
   "cell_type": "code",
   "execution_count": null,
   "id": "26a21348",
   "metadata": {},
   "outputs": [
    {
     "ename": "",
     "evalue": "",
     "output_type": "error",
     "traceback": [
      "\u001b[1;31mFailed to start the Kernel. \n",
      "\u001b[1;31mUnable to start Kernel 'Python 3.12.1' due to a timeout waiting for the ports to get used. \n",
      "\u001b[1;31mView Jupyter <a href='command:jupyter.viewOutput'>log</a> for further details."
     ]
    }
   ],
   "source": [
    "print(valor, valor_b)"
   ]
  },
  {
   "cell_type": "code",
   "execution_count": 7,
   "id": "84baf3d1",
   "metadata": {},
   "outputs": [
    {
     "name": "stdout",
     "output_type": "stream",
     "text": [
      "[1]\n",
      "[1, 2]\n",
      "[1, 2, 3]\n",
      "[1, 2, 3, 4]\n",
      "[1, 2, 3, 4, 5]\n"
     ]
    }
   ],
   "source": [
    "lista_base = [1]\n",
    "print(lista_base)\n",
    "lista_base.append(2)\n",
    "print(lista_base)\n",
    "lista_base.append(3)\n",
    "print(lista_base)\n",
    "lista_base.append(4)\n",
    "print(lista_base)\n",
    "lista_base.append(5)\n",
    "print(lista_base)"
   ]
  },
  {
   "cell_type": "code",
   "execution_count": 8,
   "id": "f0e04b14",
   "metadata": {},
   "outputs": [
    {
     "name": "stdout",
     "output_type": "stream",
     "text": [
      "1438\n"
     ]
    }
   ],
   "source": [
    "valor_a = 652\n",
    "valor_b = 786\n",
    "valor_suma = valor_a + valor_b\n",
    "print(valor_suma)"
   ]
  },
  {
   "cell_type": "code",
   "execution_count": null,
   "id": "3cbcd18e",
   "metadata": {},
   "outputs": [],
   "source": [
    "mis_numero = 5\n",
    "m = 45\n",
    "yz = 654\n",
    "es_verdadero = True\n",
    "es_falso = False"
   ]
  },
  {
   "cell_type": "code",
   "execution_count": null,
   "id": "dd88d7a0",
   "metadata": {},
   "outputs": [],
   "source": []
  }
 ],
 "metadata": {
  "kernelspec": {
   "display_name": "Python 3 (ipykernel)",
   "language": "python",
   "name": "python3"
  },
  "language_info": {
   "codemirror_mode": {
    "name": "ipython",
    "version": 3
   },
   "file_extension": ".py",
   "mimetype": "text/x-python",
   "name": "python",
   "nbconvert_exporter": "python",
   "pygments_lexer": "ipython3",
   "version": "3.12.1"
  }
 },
 "nbformat": 4,
 "nbformat_minor": 5
}
