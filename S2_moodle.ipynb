{
 "cells": [
  {
   "cell_type": "markdown",
   "id": "7f7ed68a",
   "metadata": {},
   "source": [
    "# Sesión sincrónica 2\n",
    "\n",
    "#### Unidad 3\n",
    "\n",
    "1. ¿Qué son las estructuras de control de flujo - condicionales?\n",
    "2. Selección y condiciones.\n",
    "3. Selección simple, doble y múltiple"
   ]
  },
  {
   "cell_type": "code",
   "execution_count": 1,
   "id": "bb1461a0",
   "metadata": {},
   "outputs": [
    {
     "name": "stdout",
     "output_type": "stream",
     "text": [
      "1\n",
      "2\n",
      "3\n",
      "4\n",
      "5\n"
     ]
    }
   ],
   "source": [
    "# secuencia\n",
    "print(1)\n",
    "print(2)\n",
    "print(3)\n",
    "print(4)\n",
    "print(5)"
   ]
  },
  {
   "cell_type": "markdown",
   "id": "7681d62d",
   "metadata": {},
   "source": [
    "### Acerca de las condiciones"
   ]
  },
  {
   "cell_type": "code",
   "execution_count": 2,
   "id": "61d94297",
   "metadata": {},
   "outputs": [
    {
     "name": "stdout",
     "output_type": "stream",
     "text": [
      "True False\n"
     ]
    }
   ],
   "source": [
    "condicion_a = True\n",
    "condicion_b = False\n",
    "print(condicion_a, condicion_b)"
   ]
  },
  {
   "cell_type": "code",
   "execution_count": 12,
   "id": "30f2eccf",
   "metadata": {},
   "outputs": [
    {
     "name": "stdout",
     "output_type": "stream",
     "text": [
      "True False False False\n"
     ]
    }
   ],
   "source": [
    "condicion_c = True and True\n",
    "condicion_d = True and False\n",
    "condicion_e = False and True\n",
    "condicion_f = False and False\n",
    "print(condicion_c, condicion_d, condicion_e, condicion_f)"
   ]
  },
  {
   "cell_type": "code",
   "execution_count": 13,
   "id": "79c52606",
   "metadata": {},
   "outputs": [
    {
     "name": "stdout",
     "output_type": "stream",
     "text": [
      "True True True False\n"
     ]
    }
   ],
   "source": [
    "condicion_g = True or True\n",
    "condicion_h = True or False\n",
    "condicion_i = False or True\n",
    "condicion_j = False or False\n",
    "print(condicion_g, condicion_h, condicion_i, condicion_j)"
   ]
  },
  {
   "cell_type": "code",
   "execution_count": 21,
   "id": "36449991",
   "metadata": {},
   "outputs": [
    {
     "name": "stdout",
     "output_type": "stream",
     "text": [
      "por fuera del bloque\n"
     ]
    }
   ],
   "source": [
    "# if ---> simple / opcional\n",
    "\n",
    "edad_persona = 15 # valor en comprobación\n",
    "edad_minima_ingreso = 18 # Regla\n",
    "\n",
    "if(edad_persona >= edad_minima_ingreso):\n",
    "    print(\"Bienvenido, puedes pasar\")\n",
    "    print(\"Bienvenido, puedes pasar\")\n",
    "    print(\"Bienvenido, puedes pasar\")\n",
    "    print(\"Bienvenido, puedes pasar\")\n",
    "\n",
    "print(\"por fuera del bloque\")"
   ]
  },
  {
   "cell_type": "code",
   "execution_count": 23,
   "id": "09b6aa04",
   "metadata": {},
   "outputs": [
    {
     "name": "stdout",
     "output_type": "stream",
     "text": [
      "Bienvenido, puedes pasar\n"
     ]
    }
   ],
   "source": [
    "# else ---> por defecto\n",
    "\n",
    "edad_persona = 18\n",
    "edad_minima_ingreso = 18\n",
    "\n",
    "if(edad_persona >= edad_minima_ingreso):\n",
    "    print(\"Bienvenido, puedes pasar\")\n",
    "else:\n",
    "    print(\"No señor, no puede pasar...\")"
   ]
  },
  {
   "cell_type": "code",
   "execution_count": 26,
   "id": "3dde12d0",
   "metadata": {},
   "outputs": [
    {
     "name": "stdout",
     "output_type": "stream",
     "text": [
      "El número es par\n"
     ]
    }
   ],
   "source": [
    "numero_incognita = 6\n",
    "\n",
    "if(numero_incognita % 2 == 0):\n",
    "    print(\"El número es par\")\n",
    "else:\n",
    "    print(\"El número es impar\")    "
   ]
  },
  {
   "cell_type": "code",
   "execution_count": 31,
   "id": "b796086f",
   "metadata": {},
   "outputs": [
    {
     "name": "stdout",
     "output_type": "stream",
     "text": [
      "Puede ingresar a la plazoleta de comidas\n"
     ]
    }
   ],
   "source": [
    "# elif (else+if)\n",
    "\n",
    "#3 [Kinder]: 18 - 24\n",
    "#2 [Adultos]: 25 - 35\n",
    "#1 [Años Dorados]: 55 - 90\n",
    "\n",
    "## ** sólo ingresas si tienes mas de 18 ** ##\n",
    "\n",
    "edad_persona = 40\n",
    "\n",
    "if(edad_persona >= 18):\n",
    "    if( edad_persona >= 18 and edad_persona <= 24):\n",
    "        print(\"Puede ingresar al kinder\")\n",
    "    elif(edad_persona >= 25 and edad_persona <= 35):\n",
    "        print(\"Puede ingresar a adultos\")\n",
    "    elif(edad_persona >= 55 and edad_persona <= 90):\n",
    "        print(\"Puede ingresar a Años Dorados\")\n",
    "    else: #### sólo si quiero bloquear el acceso al rango, y única selección.\n",
    "        print(\"Puede ingresar a la plazoleta de comidas\")\n",
    "else:\n",
    "    print(\"Lo siento, no pueden ingresar menores de edad\")\n",
    "\n",
    "# if\n",
    "# if - else\n",
    "# if - elif\n",
    "# if - elif - elif - else"
   ]
  },
  {
   "cell_type": "code",
   "execution_count": null,
   "id": "f2ff36b2-8cab-4d46-8079-6ac94dcb7fba",
   "metadata": {},
   "outputs": [],
   "source": []
  },
  {
   "cell_type": "code",
   "execution_count": null,
   "id": "f4f4174a-436e-4aa0-9a89-4e2539b37595",
   "metadata": {},
   "outputs": [],
   "source": []
  },
  {
   "cell_type": "code",
   "execution_count": 37,
   "id": "b79554de-d488-4241-9bda-fb06318fe347",
   "metadata": {},
   "outputs": [
    {
     "name": "stdout",
     "output_type": "stream",
     "text": [
      "Puede ingresar a la plazoleta de comidas :😋\n"
     ]
    }
   ],
   "source": [
    "# [VIP]: 21 - 36\n",
    "# [Jóvenes]: 18 - 25\n",
    "# [Adultos]: 26 - 35\n",
    "# [SemiSeniors]: 36 - 45\n",
    "# [Seniors]: 55 - 90\n",
    "\n",
    "# *** mayores de 18\n",
    "\n",
    "edad_persona = 46\n",
    "edad_minima_ingreso = 18\n",
    "tiene_rango = False\n",
    "\n",
    "if( edad_persona >= edad_minima_ingreso ):\n",
    "    \n",
    "    ## segmentación\n",
    "    if(edad_persona>=21 and edad_persona<=36):\n",
    "        print(\"Puede ingresar a VIP\")\n",
    "        tiene_rango=True\n",
    "    \n",
    "    if(edad_persona>=18 and edad_persona<=25):\n",
    "        print(\"Puede ingresar a Jóvenes\")\n",
    "        tiene_rango=True\n",
    "    \n",
    "    if(edad_persona>=26 and edad_persona<=35):\n",
    "        print(\"Puede ingresar a Adultos\")\n",
    "        tiene_rango=True\n",
    "    \n",
    "    if(edad_persona>=36 and edad_persona<=45):\n",
    "        print(\"Puede ingresar a SemiSeniors\")\n",
    "        tiene_rango=True\n",
    "    \n",
    "    if(edad_persona>=55 and edad_persona<=90):\n",
    "        print(\"Puede ingresar a Seniors\")   \n",
    "        tiene_rango=True\n",
    "        \n",
    "    if(tiene_rango == False):\n",
    "        print(\"Puede ingresar a la plazoleta de comidas :😋\")\n",
    "        \n",
    "else:\n",
    "    print(\"Usted no puede pasar ❌\") "
   ]
  },
  {
   "cell_type": "code",
   "execution_count": null,
   "id": "43046d87-96fd-4bf1-965f-a391c03c96fe",
   "metadata": {},
   "outputs": [],
   "source": []
  },
  {
   "cell_type": "code",
   "execution_count": null,
   "id": "93e6aa62-ac54-4acc-952a-55f971bd8b27",
   "metadata": {},
   "outputs": [],
   "source": []
  },
  {
   "cell_type": "code",
   "execution_count": 38,
   "id": "f5001de9",
   "metadata": {},
   "outputs": [
    {
     "name": "stdout",
     "output_type": "stream",
     "text": [
      "Lo siento, no pueden ingresar menores de edad\n",
      "otras cosas.... por hacer\n"
     ]
    }
   ],
   "source": [
    "# elif\n",
    "\n",
    "#4 [VIP]: 21 - 35\n",
    "#3 [Jovenes]: 18 - 28\n",
    "#2 [Adultos]: 25 - 35\n",
    "#1 [Años Dorados]: 55 - 90\n",
    "\n",
    "## ** sólo ingresas si tienes mas de 18 ** ##\n",
    "\n",
    "edad_persona = 16\n",
    "esta_en_rango = False\n",
    "\n",
    "if(edad_persona >= 18):\n",
    "    \n",
    "    if( edad_persona >= 21 and edad_persona <= 35):\n",
    "        print(\"Puede ingresar al VIP\")\n",
    "        esta_en_rango = True\n",
    "        if(edad_persona >= 21 and edad_persona <= 26):\n",
    "            print(\"combo muchachos\")\n",
    "        if(edad_persona >= 26 and edad_persona <= 35):\n",
    "            print(\"combo adulto joven\")\n",
    "        \n",
    "    if(edad_persona >= 18 and edad_persona <= 28):\n",
    "        print(\"Puede ingresar a Jóvenes\")\n",
    "        esta_en_rango = True\n",
    "        \n",
    "    if(edad_persona >= 25 and edad_persona <= 35):\n",
    "        print(\"Puede ingresar a Adultos\")\n",
    "        esta_en_rango = True\n",
    "        \n",
    "    if(edad_persona >= 55 and edad_persona <= 90):\n",
    "        print(\"Puede ingresar a Años Dorados\")\n",
    "        esta_en_rango = True    \n",
    "        \n",
    "##  if(edad_persona > 35 and edad_persona < 55):\n",
    "##  print(\"Puede ingresar a la plazoleta de comidas\")\n",
    "##        esta_en_rango = True    \n",
    "        \n",
    "    if(esta_en_rango == False):\n",
    "        print(\"Puede ingresar a la plazoleta de comidas\")\n",
    "        \n",
    "else:\n",
    "    print(\"Lo siento, no pueden ingresar menores de edad\")\n",
    "    \n",
    "print(\"otras cosas.... por hacer\")"
   ]
  },
  {
   "cell_type": "code",
   "execution_count": 40,
   "id": "61d1304b",
   "metadata": {},
   "outputs": [
    {
     "name": "stdout",
     "output_type": "stream",
     "text": [
      "Precio es: 1750000\n"
     ]
    }
   ],
   "source": [
    "\n",
    "# Ejercicio de selección computadores precio\n",
    "\n",
    "limite_sin_iva = 1800000\n",
    "precio_compu = 1750000\n",
    "\n",
    "if(precio_compu <= limite_sin_iva):\n",
    "    print(\"Precio es:\", precio_compu)\n",
    "else:\n",
    "    print(\"Precio es:\", precio_compu*1.19)"
   ]
  },
  {
   "cell_type": "code",
   "execution_count": null,
   "id": "44667b58-c89a-4048-8480-0ecd2b5f53f2",
   "metadata": {},
   "outputs": [],
   "source": []
  },
  {
   "cell_type": "code",
   "execution_count": 47,
   "id": "7a59e19b-6f07-446c-ac40-b09bcc330644",
   "metadata": {},
   "outputs": [
    {
     "name": "stdout",
     "output_type": "stream",
     "text": [
      "Cadena codificada:  b'Jos\\xc3\\xa9 Andr\\xc3\\xa9s Moncada Quintero'\n",
      "Cadena no codificada:  José Andrés Moncada Quintero\n"
     ]
    }
   ],
   "source": [
    "# Ejercicio: Convierte una cadena a bytes y luego decodifícala.\n",
    "nombre = \"José Andrés Moncada Quintero\"\n",
    "nombre_bytes = nombre.encode('utf-8')\n",
    "print(\"Cadena codificada: \",nombre_bytes)\n",
    "nombre_pero_decodificado = nombre_bytes.decode('utf-8')\n",
    "print(\"Cadena no codificada: \",nombre_pero_decodificado)"
   ]
  },
  {
   "cell_type": "code",
   "execution_count": 48,
   "id": "ae4a0432-3a3c-4584-8cef-0e9e0dd34624",
   "metadata": {},
   "outputs": [
    {
     "data": {
      "text/plain": [
       "<generator object <genexpr> at 0x00000205FA2B1B10>"
      ]
     },
     "execution_count": 48,
     "metadata": {},
     "output_type": "execute_result"
    }
   ],
   "source": [
    "# Ejercicio: Crea una expresión generadora que genere cuadrados de números pares del 2 al 10.\n",
    "## start, end (open), step\n",
    "mi_generador = (x ** 2 for x in range(2,11,2))\n",
    "mi_generador"
   ]
  },
  {
   "cell_type": "code",
   "execution_count": 49,
   "id": "11b4600c-8202-471b-b5cf-b3695b3d6310",
   "metadata": {
    "scrolled": true
   },
   "outputs": [
    {
     "name": "stdout",
     "output_type": "stream",
     "text": [
      "4\n",
      "16\n",
      "36\n",
      "64\n",
      "100\n"
     ]
    }
   ],
   "source": [
    "for cuadrados_pares_2_al_10 in mi_generador:\n",
    "    print(cuadrados_pares_2_al_10)"
   ]
  },
  {
   "cell_type": "code",
   "execution_count": 60,
   "id": "93edb125-9510-4d3f-a25d-7149cb454c10",
   "metadata": {},
   "outputs": [
    {
     "name": "stdin",
     "output_type": "stream",
     "text": [
      "Ingresa un numero entero mayor que 1  18\n"
     ]
    },
    {
     "name": "stdout",
     "output_type": "stream",
     "text": [
      "El numero NO es numero primo\n"
     ]
    }
   ],
   "source": [
    "number = int(input('Ingresa un numero entero mayor que 1 '))\n",
    "Residuos = []\n",
    "Zeros = []\n",
    "\n",
    "if number == 2:\n",
    "    print('El numero es numero primo')\n",
    "elif number%2 == 0:\n",
    "    print('El numero NO es numero primo')\n",
    "else:\n",
    "    for n in range (3, number+1, 2):\n",
    "        residuo = number%n\n",
    "        Residuos.append(residuo)\n",
    "    for z in Residuos:\n",
    "        if z == 0:\n",
    "            Zeros.append(z)\n",
    "    if len(Zeros) > 1 :\n",
    "        print('El numero NO es un numero primo')\n",
    "    else:\n",
    "        print('El numero es un numero primo')"
   ]
  },
  {
   "cell_type": "code",
   "execution_count": 65,
   "id": "f01b9c64-0095-4151-8343-93499ca3023b",
   "metadata": {},
   "outputs": [
    {
     "name": "stdin",
     "output_type": "stream",
     "text": [
      "Numero:  17\n"
     ]
    },
    {
     "name": "stdout",
     "output_type": "stream",
     "text": [
      "range(2, 17)\n",
      "i: 2\n",
      "i: 3\n",
      "i: 4\n",
      "i: 5\n",
      "i: 6\n",
      "i: 7\n",
      "i: 8\n",
      "i: 9\n",
      "i: 10\n",
      "i: 11\n",
      "i: 12\n",
      "i: 13\n",
      "i: 14\n",
      "i: 15\n",
      "i: 16\n",
      "17 es primo\n"
     ]
    }
   ],
   "source": [
    "num = int(input(\"Numero: \"))\n",
    "test = \"es primo\"\n",
    "print(range(2,num))\n",
    "for i in range(2,num):\n",
    "    print(\"i:\", i)\n",
    "    if num%i == 0:\n",
    "        test = \"no es primo\"\n",
    "        break\n",
    "print(num, test)"
   ]
  },
  {
   "cell_type": "code",
   "execution_count": 68,
   "id": "f0d41d10-0d5b-4d1a-8028-1d356fb4f229",
   "metadata": {
    "scrolled": true
   },
   "outputs": [
    {
     "name": "stdin",
     "output_type": "stream",
     "text": [
      " ingresa un número entero positivo mayor que 1:  17\n"
     ]
    },
    {
     "name": "stdout",
     "output_type": "stream",
     "text": [
      "valores de i: 2\n",
      "valores de i: 3\n",
      "valores de i: 4\n",
      "17 es un número primo.\n"
     ]
    }
   ],
   "source": [
    "numero = int(input(\" ingresa un número entero positivo mayor que 1: \"))\n",
    "if numero <= 1:\n",
    "    print(\" Debe ser mayor que 1.\")\n",
    "else:\n",
    "    es_primo = True \n",
    "    for i in range(2, int(numero**0.5) + 1):\n",
    "        print(\"valores de i:\", i)\n",
    "        if numero % i == 0:\n",
    "            es_primo = False \n",
    "    if es_primo:\n",
    "        print(numero, \"es un número primo.\")\n",
    "    else:\n",
    "        print(numero, \"no es un número primo.\")"
   ]
  },
  {
   "cell_type": "markdown",
   "id": "41cfd3fc-b172-4d72-a403-f205b812f994",
   "metadata": {},
   "source": [
    "#### Unidad 4\n",
    "\n",
    "1. ¿Qué son las estructuras de control de flujo - ciclos?\n",
    "2. Ciclos en Python."
   ]
  },
  {
   "cell_type": "code",
   "execution_count": 73,
   "id": "4d64d0c2-5c49-4a87-8cc8-43ad7bac22b0",
   "metadata": {},
   "outputs": [
    {
     "name": "stdout",
     "output_type": "stream",
     "text": [
      "La suma es:  55\n"
     ]
    }
   ],
   "source": [
    "# Ejercicio: Calcula la suma de los números del 1 al 10 utilizando la función range.\n",
    "suma = 0\n",
    "for i in range(1, 11):\n",
    "    suma += i # 1 2 3 4 5 6 7 8 9 10 | 11\n",
    "\n",
    "print(\"La suma es: \", suma)"
   ]
  },
  {
   "cell_type": "code",
   "execution_count": 76,
   "id": "f73feb78-5cc3-4736-870f-04c580d77888",
   "metadata": {},
   "outputs": [
    {
     "name": "stdout",
     "output_type": "stream",
     "text": [
      "55\n"
     ]
    }
   ],
   "source": [
    "suma = sum(range(1,11))\n",
    "print(suma)"
   ]
  },
  {
   "cell_type": "code",
   "execution_count": 71,
   "id": "54e54309",
   "metadata": {},
   "outputs": [
    {
     "name": "stdout",
     "output_type": "stream",
     "text": [
      "1\n",
      "2\n",
      "3\n",
      "4\n",
      "False\n"
     ]
    }
   ],
   "source": [
    "print(1)\n",
    "print(2)\n",
    "print(3)\n",
    "print(4)"
   ]
  },
  {
   "cell_type": "code",
   "execution_count": 77,
   "id": "f5256f29",
   "metadata": {
    "scrolled": true
   },
   "outputs": [
    {
     "name": "stdout",
     "output_type": "stream",
     "text": [
      "1\n",
      "2\n",
      "2\n",
      "3\n",
      "3\n",
      "3\n",
      "4\n",
      "4\n",
      "4\n",
      "4\n"
     ]
    }
   ],
   "source": [
    "print(1)\n",
    "print(2)\n",
    "print(2)\n",
    "print(3)\n",
    "print(3)\n",
    "print(3)\n",
    "print(4)\n",
    "print(4)\n",
    "print(4)\n",
    "print(4)"
   ]
  },
  {
   "cell_type": "code",
   "execution_count": 86,
   "id": "9d6ef649-7fc5-4411-a2c5-b7a56bc967b9",
   "metadata": {},
   "outputs": [
    {
     "name": "stdout",
     "output_type": "stream",
     "text": [
      "restar 10\n",
      "restar 9\n",
      "restar 8\n",
      "restar 7\n",
      "restar 6\n",
      "restar 5\n",
      "restar 4\n",
      "restar 3\n",
      "restar 2\n",
      "restar 1\n",
      "seguimos ... 💨\n"
     ]
    }
   ],
   "source": [
    "# inicialización\n",
    "num = 10\n",
    "while (num > 0): # condicion | inicie siendo verdadera\n",
    "    print(\"restar\", num)\n",
    "    num = num - 1 ## num -= 1 || Cambio\n",
    "\n",
    "print(\"seguimos ... 💨\")"
   ]
  },
  {
   "cell_type": "code",
   "execution_count": 87,
   "id": "2bcf5878",
   "metadata": {},
   "outputs": [
    {
     "name": "stdout",
     "output_type": "stream",
     "text": [
      "1\n",
      "2\n",
      "2\n",
      "3\n",
      "3\n",
      "3\n",
      "4\n",
      "4\n",
      "4\n",
      "4\n"
     ]
    }
   ],
   "source": [
    "# inicializacion\n",
    "valor = 1\n",
    "while(valor < 5):\n",
    "    conteo = 0\n",
    "    while(conteo < valor):\n",
    "        print(valor)\n",
    "        conteo+=1    \n",
    "    valor+=1"
   ]
  },
  {
   "cell_type": "code",
   "execution_count": 89,
   "id": "fef618b1",
   "metadata": {},
   "outputs": [
    {
     "name": "stdout",
     "output_type": "stream",
     "text": [
      "Clap! 👏 0\n",
      "Clap! 👏 1\n",
      "Clap! 👏 2\n",
      "Clap! 👏 3\n",
      "Clap! 👏 4\n",
      "Clap! 👏 5\n",
      "Clap! 👏 6\n",
      "Clap! 👏 7\n",
      "Clap! 👏 8\n",
      "Clap! 👏 9\n",
      "Clap! 👏 10\n",
      "Clap! 👏 11\n"
     ]
    }
   ],
   "source": [
    "# while\n",
    "conteo_aplausos = 0\n",
    "edad_persona = 12\n",
    "\n",
    "while(conteo_aplausos < edad_persona):\n",
    "    if(conteo_aplausos%2 == 0): # 0 2 4 6 8 10\n",
    "        print(\"Clap! 👏\", conteo_aplausos)\n",
    "    conteo_aplausos += 1"
   ]
  },
  {
   "cell_type": "code",
   "execution_count": 90,
   "id": "95fe727c",
   "metadata": {},
   "outputs": [
    {
     "name": "stdout",
     "output_type": "stream",
     "text": [
      "Clap! 👏\n",
      "weeeepa! 🥳\n",
      "Clap! 👏\n",
      "weeeepa! 🥳\n",
      "Clap! 👏\n",
      "weeeepa! 🥳\n",
      "Clap! 👏\n",
      "weeeepa! 🥳\n",
      "Clap! 👏\n",
      "weeeepa! 🥳\n",
      "Clap! 👏\n",
      "weeeepa! 🥳\n"
     ]
    }
   ],
   "source": [
    "# while\n",
    "conteo_aplausos = 0\n",
    "edad_persona = 12\n",
    "\n",
    "while(conteo_aplausos < edad_persona):\n",
    "    if(conteo_aplausos%2==0):\n",
    "        print(\"Clap! 👏\")\n",
    "    else:\n",
    "        print(\"weeeepa! 🥳\")    \n",
    "    conteo_aplausos += 1"
   ]
  },
  {
   "cell_type": "code",
   "execution_count": 91,
   "id": "565778f5-5378-4470-b1e8-c7030aabdd90",
   "metadata": {},
   "outputs": [
    {
     "name": "stdout",
     "output_type": "stream",
     "text": [
      "Cantar el compleaños, parte 1\n",
      "¡aplauso!\n",
      "¡aplauso!\n",
      "¡aplauso!\n",
      "¡aplauso!\n",
      "¡aplauso!\n",
      "Bravo!!!\n"
     ]
    }
   ],
   "source": [
    "# while\n",
    "\n",
    "# aplausos ---> edad\n",
    "\n",
    "conteo_aplausos = 0\n",
    "edad = 5\n",
    "print(\"Cantar el compleaños, parte 1\")\n",
    "while(conteo_aplausos < edad):\n",
    "    print(\"¡aplauso!\")\n",
    "    conteo_aplausos += 1\n",
    "print(\"Bravo!!!\")"
   ]
  },
  {
   "cell_type": "markdown",
   "id": "9c7dc7ce-4843-478d-9ef2-c216cb515bd6",
   "metadata": {},
   "source": [
    "## For"
   ]
  },
  {
   "cell_type": "code",
   "execution_count": 92,
   "id": "ed270f11-83c3-4d9a-b8bd-e312f13bd9a0",
   "metadata": {},
   "outputs": [
    {
     "name": "stdout",
     "output_type": "stream",
     "text": [
      "0.1\n",
      "0.2\n",
      "0.3\n",
      "0.4\n",
      "0.5\n",
      "0.6\n",
      "0.7\n",
      "0.8\n",
      "0.9\n",
      "1.0\n"
     ]
    }
   ],
   "source": [
    "# for\n",
    "for x in range(1,11): # [1,2,3,4,5,6,7,8,9,10]\n",
    "    print(x/10)"
   ]
  },
  {
   "cell_type": "code",
   "execution_count": 93,
   "id": "3abb478c-d1dc-4390-b4bc-46b4314e2cf2",
   "metadata": {},
   "outputs": [
    {
     "name": "stdout",
     "output_type": "stream",
     "text": [
      "Hola,  Juan\n",
      "Hola,  Pepe\n",
      "Hola,  Ana\n",
      "Hola,  Maria\n"
     ]
    }
   ],
   "source": [
    "lista = [\"Juan\", \"Pepe\", \"Ana\", \"Maria\"]\n",
    "for user in lista:\n",
    "    print(\"Hola, \", user)"
   ]
  },
  {
   "cell_type": "code",
   "execution_count": 102,
   "id": "e13449a6-03eb-49bb-a9c9-e0a033e3a3be",
   "metadata": {},
   "outputs": [
    {
     "name": "stdout",
     "output_type": "stream",
     "text": [
      "Hola Edward !! ⚡\n",
      "Hola Jessica !! ⚡\n"
     ]
    }
   ],
   "source": [
    "# for\n",
    "lista_personas = [\"Edward\",\"Jquebradas\",\"Isabella\",\"Jessica\",\"Giselle\"]\n",
    "index = 0\n",
    "for estudiante in lista_personas[0:4:3]: # ini:fin:step\n",
    "        print(\"Hola\", estudiante, \"!! ⚡\")"
   ]
  },
  {
   "cell_type": "code",
   "execution_count": 106,
   "id": "c419d277",
   "metadata": {},
   "outputs": [
    {
     "name": "stdout",
     "output_type": "stream",
     "text": [
      "Hola!! Bryan\n",
      "Hola!! Christian\n"
     ]
    }
   ],
   "source": [
    "# for\n",
    "estudiantes = [\"Bryan\", \"Christian\", \"Alexa\", \"Angie\"]\n",
    "for estudiante in estudiantes:\n",
    "    if(str(estudiante).endswith(\"n\")):\n",
    "        print(\"Hola!!\", estudiante)"
   ]
  },
  {
   "cell_type": "markdown",
   "id": "398a34f1-b73d-4d2e-abdc-119fab67b882",
   "metadata": {
    "jp-MarkdownHeadingCollapsed": true
   },
   "source": [
    "Recorra un diccionario que tiene nombres y notas, si la nota es 3 o mas imprima nombre \"aprobado\" de lo contrario, si es mejor que 3 imprima \"F tocó repetir\""
   ]
  },
  {
   "cell_type": "code",
   "execution_count": 116,
   "id": "b9bf96cf-f68f-4a1e-82b1-eb3f8a3a0c9b",
   "metadata": {},
   "outputs": [
    {
     "name": "stdout",
     "output_type": "stream",
     "text": [
      "{'pepe': 3.2, 'juanito': 2.8, 'juliana': 5.0, 'daniela': 2.7}\n",
      "<class 'dict'>\n",
      "dict_items([('pepe', 3.2), ('juanito', 2.8), ('juliana', 5.0), ('daniela', 2.7)])\n",
      "pepe 3.2\n",
      "Felicitaciones: pepe estás Aprobado\n",
      "juanito 2.8\n",
      "juanito lo siento, tocó repetir 💔\n",
      "juliana 5.0\n",
      "Felicitaciones: juliana estás Aprobado\n",
      "daniela 2.7\n",
      "daniela lo siento, tocó repetir 💔\n"
     ]
    }
   ],
   "source": [
    "listado_estudiantes = {\n",
    "    \"pepe\":3.2,    # K:V\n",
    "    \"juanito\":2.8, # K:V\n",
    "    \"juliana\":5.0, # K:V\n",
    "    \"daniela\":2.7  # K:V\n",
    "}\n",
    "\n",
    "print(listado_estudiantes)\n",
    "print(type(listado_estudiantes))\n",
    "\n",
    "print(listado_estudiantes.items())\n",
    "\n",
    "for estudiante, nota in listado_estudiantes.items():\n",
    "    print(estudiante, nota)\n",
    "    if(nota>=3):\n",
    "        print(\"Felicitaciones:\", estudiante, \"estás Aprobado\")\n",
    "    else:\n",
    "        print(estudiante, \"lo siento, tocó repetir 💔\")"
   ]
  },
  {
   "cell_type": "code",
   "execution_count": 126,
   "id": "5d409ab9-2973-4b69-9dcb-f217a3eb3480",
   "metadata": {},
   "outputs": [
    {
     "name": "stdout",
     "output_type": "stream",
     "text": [
      "{'pepe': 5.0, 'juanito': 2.6666666666666665, 'juliana': 2.066666666666667, 'daniela': 1.8}\n",
      "pepe 5.0\n",
      "Felicitaciones: pepe estás Aprobado\n",
      "juanito 2.6666666666666665\n",
      "juanito lo siento, tocó repetir 💔\n",
      "juliana 2.066666666666667\n",
      "juliana lo siento, tocó repetir 💔\n",
      "daniela 1.8\n",
      "daniela lo siento, tocó repetir 💔\n"
     ]
    }
   ],
   "source": [
    "corte_a = [5.0, 3.5, 3.6, 3.7]\n",
    "corte_b = [5.0, 4.5, 2.6, 1.7]\n",
    "corte_c = [5.0, 0, 0, 0]\n",
    "estudiantes = [\"pepe\",  \"juanito\", \"juliana\", \"daniela\"]\n",
    "promedios = {}\n",
    "for indice in range(0,4): ## 0 1 2 3\n",
    "    promedio = (corte_a[indice] + corte_b[indice] + corte_c[indice])/3\n",
    "    ##promedios.append(promedio)\n",
    "    '''promedios[estudiantes[indice]]={\n",
    "        \"promedio\":promedio\n",
    "    }'''\n",
    "    promedios[estudiantes[indice]]=promedio\n",
    "    ##print(\"el promedio de \", estudiantes[indice], \"es:\", promedio)\n",
    "print(promedios)\n",
    "\n",
    "for estudiante, nota in promedios.items():\n",
    "    print(estudiante, nota)\n",
    "    if(nota>=3):\n",
    "        print(\"Felicitaciones:\", estudiante, \"estás Aprobado\")\n",
    "    else:\n",
    "        print(estudiante, \"lo siento, tocó repetir 💔\")"
   ]
  },
  {
   "cell_type": "code",
   "execution_count": 127,
   "id": "b039005c-95cf-4e29-828e-0751ef0d4ded",
   "metadata": {},
   "outputs": [
    {
     "name": "stdout",
     "output_type": "stream",
     "text": [
      "3\n",
      "4\n"
     ]
    }
   ],
   "source": [
    "# range\n",
    "for x in range(3,5,1): # [0,1,2,3,4]\n",
    "    print(x)"
   ]
  },
  {
   "cell_type": "code",
   "execution_count": 129,
   "id": "c503c7b0",
   "metadata": {},
   "outputs": [
    {
     "name": "stdout",
     "output_type": "stream",
     "text": [
      "97\n",
      "98\n",
      "99\n",
      "100\n",
      "101\n",
      "102\n",
      "103\n",
      "104\n",
      "105\n",
      "106\n",
      "107\n",
      "108\n",
      "109\n",
      "110\n",
      "111\n",
      "112\n",
      "113\n",
      "114\n",
      "115\n",
      "116\n",
      "117\n",
      "118\n",
      "119\n",
      "120\n",
      "121\n",
      "122\n"
     ]
    }
   ],
   "source": [
    "# range\n",
    "for x in range(97, 123): # [0,1,2,3,4,5,6,7,8,9] \n",
    "    print(chr(x))"
   ]
  },
  {
   "cell_type": "code",
   "execution_count": 60,
   "id": "9b6765da",
   "metadata": {},
   "outputs": [
    {
     "data": {
      "text/plain": [
       "range"
      ]
     },
     "execution_count": 60,
     "metadata": {},
     "output_type": "execute_result"
    }
   ],
   "source": [
    "type(range(2, 10, 3))"
   ]
  },
  {
   "cell_type": "code",
   "execution_count": 131,
   "id": "64729e32",
   "metadata": {},
   "outputs": [],
   "source": [
    "import pandas as pd\n",
    "\n",
    "names_list = [\n",
    "    \"Alice\", \"Bob\", \"Charlie\", \"David\", \"Emma\", \"Frank\", \"Grace\", \"Henry\", \"Isabella\", \"Jack\",\n",
    "    \"Kate\", \"Liam\", \"Mia\", \"Noah\", \"Olivia\", \"Peter\", \"Quinn\", \"Rachel\", \"Samuel\", \"Taylor\"\n",
    "]\n",
    "\n",
    "df = pd.DataFrame(names_list, columns=[\"nombre\"])"
   ]
  },
  {
   "cell_type": "code",
   "execution_count": 132,
   "id": "1610f8dd",
   "metadata": {},
   "outputs": [
    {
     "data": {
      "text/html": [
       "<div>\n",
       "<style scoped>\n",
       "    .dataframe tbody tr th:only-of-type {\n",
       "        vertical-align: middle;\n",
       "    }\n",
       "\n",
       "    .dataframe tbody tr th {\n",
       "        vertical-align: top;\n",
       "    }\n",
       "\n",
       "    .dataframe thead th {\n",
       "        text-align: right;\n",
       "    }\n",
       "</style>\n",
       "<table border=\"1\" class=\"dataframe\">\n",
       "  <thead>\n",
       "    <tr style=\"text-align: right;\">\n",
       "      <th></th>\n",
       "      <th>nombre</th>\n",
       "    </tr>\n",
       "  </thead>\n",
       "  <tbody>\n",
       "    <tr>\n",
       "      <th>0</th>\n",
       "      <td>Alice</td>\n",
       "    </tr>\n",
       "    <tr>\n",
       "      <th>1</th>\n",
       "      <td>Bob</td>\n",
       "    </tr>\n",
       "    <tr>\n",
       "      <th>2</th>\n",
       "      <td>Charlie</td>\n",
       "    </tr>\n",
       "    <tr>\n",
       "      <th>3</th>\n",
       "      <td>David</td>\n",
       "    </tr>\n",
       "    <tr>\n",
       "      <th>4</th>\n",
       "      <td>Emma</td>\n",
       "    </tr>\n",
       "    <tr>\n",
       "      <th>5</th>\n",
       "      <td>Frank</td>\n",
       "    </tr>\n",
       "    <tr>\n",
       "      <th>6</th>\n",
       "      <td>Grace</td>\n",
       "    </tr>\n",
       "    <tr>\n",
       "      <th>7</th>\n",
       "      <td>Henry</td>\n",
       "    </tr>\n",
       "    <tr>\n",
       "      <th>8</th>\n",
       "      <td>Isabella</td>\n",
       "    </tr>\n",
       "    <tr>\n",
       "      <th>9</th>\n",
       "      <td>Jack</td>\n",
       "    </tr>\n",
       "    <tr>\n",
       "      <th>10</th>\n",
       "      <td>Kate</td>\n",
       "    </tr>\n",
       "    <tr>\n",
       "      <th>11</th>\n",
       "      <td>Liam</td>\n",
       "    </tr>\n",
       "    <tr>\n",
       "      <th>12</th>\n",
       "      <td>Mia</td>\n",
       "    </tr>\n",
       "    <tr>\n",
       "      <th>13</th>\n",
       "      <td>Noah</td>\n",
       "    </tr>\n",
       "    <tr>\n",
       "      <th>14</th>\n",
       "      <td>Olivia</td>\n",
       "    </tr>\n",
       "    <tr>\n",
       "      <th>15</th>\n",
       "      <td>Peter</td>\n",
       "    </tr>\n",
       "    <tr>\n",
       "      <th>16</th>\n",
       "      <td>Quinn</td>\n",
       "    </tr>\n",
       "    <tr>\n",
       "      <th>17</th>\n",
       "      <td>Rachel</td>\n",
       "    </tr>\n",
       "    <tr>\n",
       "      <th>18</th>\n",
       "      <td>Samuel</td>\n",
       "    </tr>\n",
       "    <tr>\n",
       "      <th>19</th>\n",
       "      <td>Taylor</td>\n",
       "    </tr>\n",
       "  </tbody>\n",
       "</table>\n",
       "</div>"
      ],
      "text/plain": [
       "      nombre\n",
       "0      Alice\n",
       "1        Bob\n",
       "2    Charlie\n",
       "3      David\n",
       "4       Emma\n",
       "5      Frank\n",
       "6      Grace\n",
       "7      Henry\n",
       "8   Isabella\n",
       "9       Jack\n",
       "10      Kate\n",
       "11      Liam\n",
       "12       Mia\n",
       "13      Noah\n",
       "14    Olivia\n",
       "15     Peter\n",
       "16     Quinn\n",
       "17    Rachel\n",
       "18    Samuel\n",
       "19    Taylor"
      ]
     },
     "execution_count": 132,
     "metadata": {},
     "output_type": "execute_result"
    }
   ],
   "source": [
    "df"
   ]
  },
  {
   "cell_type": "code",
   "execution_count": 134,
   "id": "d7e1f1a8",
   "metadata": {},
   "outputs": [
    {
     "data": {
      "text/plain": [
       "array([0.1, 0.2, 0.3, 0.4, 0.5, 0.6, 0.7, 0.8, 0.9])"
      ]
     },
     "execution_count": 134,
     "metadata": {},
     "output_type": "execute_result"
    }
   ],
   "source": [
    "# Ejercicio de cálculo de pasos\n",
    "import numpy as np\n",
    "\n",
    "lista_valores = np.arange(0.1, 1, 0.1)\n",
    "lista_valores"
   ]
  },
  {
   "cell_type": "code",
   "execution_count": null,
   "id": "a5c2ec40-bce1-4539-9224-b21d5c4c5551",
   "metadata": {},
   "outputs": [],
   "source": []
  }
 ],
 "metadata": {
  "kernelspec": {
   "display_name": "Python 3 (ipykernel)",
   "language": "python",
   "name": "python3"
  },
  "language_info": {
   "codemirror_mode": {
    "name": "ipython",
    "version": 3
   },
   "file_extension": ".py",
   "mimetype": "text/x-python",
   "name": "python",
   "nbconvert_exporter": "python",
   "pygments_lexer": "ipython3",
   "version": "3.11.7"
  }
 },
 "nbformat": 4,
 "nbformat_minor": 5
}
